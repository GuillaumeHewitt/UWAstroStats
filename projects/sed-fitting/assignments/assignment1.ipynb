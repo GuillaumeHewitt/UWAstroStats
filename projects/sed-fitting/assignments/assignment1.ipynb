{
 "cells": [
  {
   "cell_type": "markdown",
   "id": "c4f9a492",
   "metadata": {},
   "source": [
    "# Assignment 1\n",
    "## Getting started with SED fitting & error estimation\n"
   ]
  },
  {
   "cell_type": "markdown",
   "id": "b440d9f8",
   "metadata": {},
   "source": [
    "This assignment is split into 3 sections, roughly corresponding to the contents of each of the 3 weeks in the Error Estimation module. \n",
    "\n",
    "The SETUP section is designed to be done first, to familarize yourself with the data and the details of SED fitting. Section 1 is shorter to account for this. You should be able to finish Section 1 after January 26th, Section 2 after February 2nd, and Section 3 after February 9th. You can work on this assignment during the lab hours, as well as in your own time - and feel free to ask the instructors questions!\n",
    "\n",
    "All assignments are presented as Jupyter notebooks. You will fork the repository to have your own access to all files. You can edit this notebook directly with your answers and push your changes to GitHub. Feel free to write any commonly used functions in a separate module and import them here if you like."
   ]
  },
  {
   "cell_type": "markdown",
   "id": "d29cfd0a",
   "metadata": {},
   "source": [
    "# Section 0\n",
    "## Setup\n",
    "\n",
    "First, we need to set up the SED fitting project, install Prospector, and make sure we can run Prospector.\n",
    "\n",
    "1. Download the data from [here](https://irfu.cea.fr/Pisp/yu-yen.chang/sw.html) (both the input and output catalog). <br>\n",
    "   The data comes from [Chang et al. (2015)](https://ui.adsabs.harvard.edu/abs/2015ApJS..219....8C/abstract), who used MAGPHYS (another SED fitting code) to fit the photometry stored in the input file and obtain stellar masses / ages / etc. stored in the output file. <br>\n",
    "   > Be careful of where you store these files. If you store them in a random place in this repository, they will get pushed to Git alongside your changes. The files are heavy, which will cause problems downstream. We suggest placing your files in `projects/sed-fitting/data` folder (for Chang catalogs) and `projects/sed-fitting/output` folder (for your own Prospector output files). These folders are added in the `.gitignore` file in the root, and so anything in these folders will be ignored by Git.\n",
    "   \n",
    "2. Install [Prospector](https://github.com/bd-j/prospector)\n",
    "   > We found this easiest to do using the [conda script](https://github.com/bd-j/prospector/blob/main/conda_install.sh) provided: download the script somewhere on your PC and run `bash conda_install.sh`. Again, best not to do this inside the Git repository as the bash script will download several large libraries. If you are feeling brave, you can try doing it from this repository, but first make sure to add the libraries to `.gitignore`. <br>\n",
    "   > Make sure to follow the instructions from `conda_install.sh`: add SPS_HOME to your `~/.bashrc` file as your terminal says.<br>\n",
    "   > This bash script will create a new conda environment, `prospector`, which you can run using `conda activate prospector`.\n",
    "    <br><br>\n",
    "\n",
    "3. Fix a Prospector + NumPy >= 1.20 issue (you might not need this)<br>\n",
    "   Run the following cell:"
   ]
  },
  {
   "cell_type": "code",
   "execution_count": 5,
   "id": "21bf0063-8183-4caa-94cf-c36d1ce9b4d3",
   "metadata": {},
   "outputs": [
    {
     "name": "stdout",
     "output_type": "stream",
     "text": [
      "1.26.0\n"
     ]
    }
   ],
   "source": [
    "import numpy\n",
    "print(numpy.__version__)"
   ]
  },
  {
   "cell_type": "markdown",
   "id": "48da5ef3-6634-442c-a540-20f04d0ead00",
   "metadata": {},
   "source": [
    "If the version is greater than 1.20.0, you will need to fix a library in Prospector to make it compatible with a later NumPy. There is a file `write_results.py` in the project library. Copy it to your Prospector installation location within your conda environment, it should be something like `/home/[username]/[your conda installation]/envs/prospector/lib/[your python version]/site-packages/prospect/io`\n",
    "\n",
    "4. Install any other Python libraries<br>Since we have made a new environment, it will only have prospector and its dependancies installed. We still need to install other useful Python libraries in the new environment. \n",
    "   > We listed the libraries you will need in `requirements.txt`.<br>\n",
    "   > First, run `conda activate prospector` to make sure you are using the new environment. <br>\n",
    "   > Then, you can install all required libraries simply using `pip install -r requirements.txt`\n"
   ]
  },
  {
   "cell_type": "markdown",
   "id": "fe975369-02d0-4d36-9fce-b5e7f031e103",
   "metadata": {},
   "source": [
    "## Test Prospector\n",
    "\n",
    "We have provided a notebook, Prospector Example, that gives step-by-step instructions for loading in the photometric data for one galaxy and running Prospector to get a simple fit to that galaxy's SED. If you have any questions, you can either ask us, or consult the [Prospector documentation](https://prospect.readthedocs.io/en/latest/) that has explanations of all the different parameters, models, and use cases.\n",
    "\n",
    "#### Step 1\n",
    "Open the example notebook and run it completely without changing anything. <br> (This is to make sure everything is installed right)\n",
    "\n",
    "#### Step 2\n",
    "Try to change some fitting parameters: you can try a different galaxy, play around with different priors, try a different star formation model, or a different sampling technique.\n",
    "\n",
    "What did you try? What was different between the fits?"
   ]
  },
  {
   "cell_type": "raw",
   "id": "ae99b8a0-cb56-45c2-b8a8-4e9a78031d7a",
   "metadata": {},
   "source": [
    "#### My answer\n",
    "[You can put your answer here - change it to Markdown if you want it to look nice]"
   ]
  },
  {
   "cell_type": "markdown",
   "id": "04cf3e10-1367-4437-aeea-18c57394d9c8",
   "metadata": {},
   "source": [
    "#### Step 3\n",
    "Try running Prospector through a command line.\n",
    "\n",
    "Re-running a notebook each time is impractical, so to fit several galaxies, it's easier to write everything as a Python script we can run from the command line. We wrote a Python script for you, `assignment_params.py`. \n",
    "\n",
    "It has a few command line arguments. You can see the meaning of the different arguments by running\n",
    "\n",
    "     python assignment_params.py --help\n",
    "\n",
    "Try running this line in your command line to ensure that Prospector works fine and produce a fit for a test galaxy.\n",
    "\n",
    "> Note: if you stored your data files elsewhere, you will need to change the path to the input catalog on Line 200."
   ]
  },
  {
   "cell_type": "raw",
   "id": "44f09ca3-2e2c-4157-9a52-0f47956a6abd",
   "metadata": {},
   "source": [
    "python assignment_params.py --objid=33 --optimize --emcee --outfile=test"
   ]
  },
  {
   "cell_type": "markdown",
   "id": "62ea1a3b-7435-4f13-a6d6-2302ae244822",
   "metadata": {},
   "source": [
    "#### Step 4\n",
    "Plot the fitting results."
   ]
  },
  {
   "cell_type": "code",
   "execution_count": 11,
   "id": "dc95bdaf",
   "metadata": {},
   "outputs": [],
   "source": [
    "import prospect.io.read_results as reader\n",
    "import numpy as np\n",
    "import matplotlib.pyplot as plt"
   ]
  },
  {
   "cell_type": "code",
   "execution_count": 12,
   "id": "13d42248",
   "metadata": {},
   "outputs": [],
   "source": [
    "file_name = 'output/test_24Jan10-12.05_result.h5'\n",
    "res, obs, model = reader.results_from(file_name)\n",
    "results_type = \"emcee\" # | \"dynesty\"\n",
    "randint = np.random.randint\n",
    "\n",
    "sps = reader.get_sps(res)\n",
    "\n",
    "\n",
    "if results_type == \"emcee\":\n",
    "## ANI NOTES you can choose this at random?\n",
    "    \n",
    "    nwalkers, niter = 2, 2\n",
    "    theta = res['chain'][randint(nwalkers), randint(niter)]\n",
    "else:\n",
    "    theta = res[\"chain\"][randint(len(res[\"chain\"]))]\n",
    "\n",
    "imax = np.argmax(res['lnprobability'])\n",
    "\n",
    "if results_type == \"emcee\":\n",
    "    i, j = np.unravel_index(imax, res['lnprobability'].shape)\n",
    "    theta_max = res['chain'][i, j, :].copy()\n",
    "    thin = 5\n",
    "else:\n",
    "    theta_max = res[\"chain\"][imax, :]\n",
    "    thin = 1\n",
    "\n",
    "a = 1.0 + model.params.get('zred', 0.0) # cosmological redshifting\n",
    "# photometric effective wavelengths\n",
    "wphot = obs[\"phot_wave\"]\n",
    "# spectroscopic wavelengths\n",
    "# *restframe* spectral wavelengths, since obs[\"wavelength\"] is None\n",
    "wspec = sps.wavelengths\n",
    "wspec *= a #redshift them\n",
    "xmin, xmax = np.min(wphot)*0.8, np.max(wphot)/0.8\n",
    "initial_spec, initial_phot, initial_mfrac = model.sed(theta, obs=obs, sps=sps)\n",
    "\n",
    "temp = np.interp(np.linspace(xmin,xmax,10000), wspec, initial_spec)\n",
    "ymin, ymax = temp.min()*0.8, temp.max()/0.4\n"
   ]
  },
  {
   "cell_type": "code",
   "execution_count": 23,
   "id": "3fc94db0",
   "metadata": {},
   "outputs": [],
   "source": [
    "initial_spec, initial_phot, initial_mfrac = model.sed(theta, obs=obs, sps=sps)\n",
    "\n",
    "# generate model\n",
    "prediction = model.mean_model(theta, obs=obs, sps=sps)\n",
    "pspec, pphot, pfrac = prediction"
   ]
  },
  {
   "cell_type": "markdown",
   "id": "8a0aad6c-769d-4f0b-bb7b-2880662d9643",
   "metadata": {},
   "source": [
    "#### Step 5\n",
    "\n",
    "The code below loads in the table containing the photometry of all galaxies as a [Pandas DataFrame](https://pandas.pydata.org/). Select a sample of galaxies to run Prospector on. "
   ]
  },
  {
   "cell_type": "code",
   "execution_count": 3,
   "id": "645dbfa1-8bab-42ab-abff-6a6084d29399",
   "metadata": {},
   "outputs": [
    {
     "data": {
      "text/html": [
       "<div>\n",
       "<style scoped>\n",
       "    .dataframe tbody tr th:only-of-type {\n",
       "        vertical-align: middle;\n",
       "    }\n",
       "\n",
       "    .dataframe tbody tr th {\n",
       "        vertical-align: top;\n",
       "    }\n",
       "\n",
       "    .dataframe thead th {\n",
       "        text-align: right;\n",
       "    }\n",
       "</style>\n",
       "<table border=\"1\" class=\"dataframe\">\n",
       "  <thead>\n",
       "    <tr style=\"text-align: right;\">\n",
       "      <th></th>\n",
       "      <th>id</th>\n",
       "      <th>ra</th>\n",
       "      <th>dec</th>\n",
       "      <th>redshift</th>\n",
       "      <th>PLATE</th>\n",
       "      <th>MJD</th>\n",
       "      <th>FIBERID</th>\n",
       "      <th>designation</th>\n",
       "      <th>flux0_u</th>\n",
       "      <th>flux0_u_e</th>\n",
       "      <th>...</th>\n",
       "      <th>flux_w2_e</th>\n",
       "      <th>flux_w3</th>\n",
       "      <th>flux_w3_e</th>\n",
       "      <th>flux_w4</th>\n",
       "      <th>flux_w4_e</th>\n",
       "      <th>extin_u</th>\n",
       "      <th>extin_g</th>\n",
       "      <th>extin_r</th>\n",
       "      <th>extin_i</th>\n",
       "      <th>extin_z</th>\n",
       "    </tr>\n",
       "  </thead>\n",
       "  <tbody>\n",
       "    <tr>\n",
       "      <th>0</th>\n",
       "      <td>3</td>\n",
       "      <td>337.450310</td>\n",
       "      <td>1.266134</td>\n",
       "      <td>0.088372</td>\n",
       "      <td>376</td>\n",
       "      <td>52143</td>\n",
       "      <td>404</td>\n",
       "      <td>J222948.07+011558.1</td>\n",
       "      <td>0.000031</td>\n",
       "      <td>0.000003</td>\n",
       "      <td>...</td>\n",
       "      <td>0.000049</td>\n",
       "      <td>4.172000e-07</td>\n",
       "      <td>0.000209</td>\n",
       "      <td>0.000002</td>\n",
       "      <td>0.001187</td>\n",
       "      <td>0.341327</td>\n",
       "      <td>0.265960</td>\n",
       "      <td>0.183990</td>\n",
       "      <td>0.136724</td>\n",
       "      <td>0.101698</td>\n",
       "    </tr>\n",
       "    <tr>\n",
       "      <th>1</th>\n",
       "      <td>5</td>\n",
       "      <td>338.115522</td>\n",
       "      <td>1.270146</td>\n",
       "      <td>0.163800</td>\n",
       "      <td>376</td>\n",
       "      <td>52143</td>\n",
       "      <td>567</td>\n",
       "      <td>J223227.69+011612.6</td>\n",
       "      <td>0.000011</td>\n",
       "      <td>0.000004</td>\n",
       "      <td>...</td>\n",
       "      <td>0.000111</td>\n",
       "      <td>9.851000e-07</td>\n",
       "      <td>0.000493</td>\n",
       "      <td>0.000004</td>\n",
       "      <td>0.001883</td>\n",
       "      <td>0.368063</td>\n",
       "      <td>0.286793</td>\n",
       "      <td>0.198402</td>\n",
       "      <td>0.147434</td>\n",
       "      <td>0.109664</td>\n",
       "    </tr>\n",
       "    <tr>\n",
       "      <th>2</th>\n",
       "      <td>8</td>\n",
       "      <td>341.101481</td>\n",
       "      <td>1.266255</td>\n",
       "      <td>0.143369</td>\n",
       "      <td>378</td>\n",
       "      <td>52146</td>\n",
       "      <td>404</td>\n",
       "      <td>J224424.38+011558.3</td>\n",
       "      <td>0.000017</td>\n",
       "      <td>0.000003</td>\n",
       "      <td>...</td>\n",
       "      <td>0.000039</td>\n",
       "      <td>1.013700e-06</td>\n",
       "      <td>0.000507</td>\n",
       "      <td>0.000008</td>\n",
       "      <td>0.003856</td>\n",
       "      <td>0.337630</td>\n",
       "      <td>0.263079</td>\n",
       "      <td>0.181997</td>\n",
       "      <td>0.135243</td>\n",
       "      <td>0.100596</td>\n",
       "    </tr>\n",
       "    <tr>\n",
       "      <th>3</th>\n",
       "      <td>12</td>\n",
       "      <td>341.870909</td>\n",
       "      <td>1.267913</td>\n",
       "      <td>0.275242</td>\n",
       "      <td>378</td>\n",
       "      <td>52146</td>\n",
       "      <td>567</td>\n",
       "      <td>J224729.01+011604.3</td>\n",
       "      <td>0.000007</td>\n",
       "      <td>0.000003</td>\n",
       "      <td>...</td>\n",
       "      <td>0.000106</td>\n",
       "      <td>9.999000e+00</td>\n",
       "      <td>9.999000</td>\n",
       "      <td>0.000009</td>\n",
       "      <td>0.004526</td>\n",
       "      <td>0.358145</td>\n",
       "      <td>0.279064</td>\n",
       "      <td>0.193055</td>\n",
       "      <td>0.143461</td>\n",
       "      <td>0.106709</td>\n",
       "    </tr>\n",
       "    <tr>\n",
       "      <th>4</th>\n",
       "      <td>14</td>\n",
       "      <td>342.686706</td>\n",
       "      <td>1.270160</td>\n",
       "      <td>0.089104</td>\n",
       "      <td>676</td>\n",
       "      <td>52178</td>\n",
       "      <td>373</td>\n",
       "      <td></td>\n",
       "      <td>0.000031</td>\n",
       "      <td>0.000003</td>\n",
       "      <td>...</td>\n",
       "      <td>9.999000</td>\n",
       "      <td>9.999000e+00</td>\n",
       "      <td>9.999000</td>\n",
       "      <td>9.999000</td>\n",
       "      <td>9.999000</td>\n",
       "      <td>0.362289</td>\n",
       "      <td>0.282293</td>\n",
       "      <td>0.195289</td>\n",
       "      <td>0.145121</td>\n",
       "      <td>0.107943</td>\n",
       "    </tr>\n",
       "  </tbody>\n",
       "</table>\n",
       "<p>5 rows × 49 columns</p>\n",
       "</div>"
      ],
      "text/plain": [
       "   id          ra       dec  redshift  PLATE    MJD  FIBERID  \\\n",
       "0   3  337.450310  1.266134  0.088372    376  52143      404   \n",
       "1   5  338.115522  1.270146  0.163800    376  52143      567   \n",
       "2   8  341.101481  1.266255  0.143369    378  52146      404   \n",
       "3  12  341.870909  1.267913  0.275242    378  52146      567   \n",
       "4  14  342.686706  1.270160  0.089104    676  52178      373   \n",
       "\n",
       "           designation   flux0_u  flux0_u_e  ...  flux_w2_e       flux_w3  \\\n",
       "0  J222948.07+011558.1  0.000031   0.000003  ...   0.000049  4.172000e-07   \n",
       "1  J223227.69+011612.6  0.000011   0.000004  ...   0.000111  9.851000e-07   \n",
       "2  J224424.38+011558.3  0.000017   0.000003  ...   0.000039  1.013700e-06   \n",
       "3  J224729.01+011604.3  0.000007   0.000003  ...   0.000106  9.999000e+00   \n",
       "4                       0.000031   0.000003  ...   9.999000  9.999000e+00   \n",
       "\n",
       "   flux_w3_e   flux_w4  flux_w4_e   extin_u   extin_g   extin_r   extin_i  \\\n",
       "0   0.000209  0.000002   0.001187  0.341327  0.265960  0.183990  0.136724   \n",
       "1   0.000493  0.000004   0.001883  0.368063  0.286793  0.198402  0.147434   \n",
       "2   0.000507  0.000008   0.003856  0.337630  0.263079  0.181997  0.135243   \n",
       "3   9.999000  0.000009   0.004526  0.358145  0.279064  0.193055  0.143461   \n",
       "4   9.999000  9.999000   9.999000  0.362289  0.282293  0.195289  0.145121   \n",
       "\n",
       "    extin_z  \n",
       "0  0.101698  \n",
       "1  0.109664  \n",
       "2  0.100596  \n",
       "3  0.106709  \n",
       "4  0.107943  \n",
       "\n",
       "[5 rows x 49 columns]"
      ]
     },
     "execution_count": 3,
     "metadata": {},
     "output_type": "execute_result"
    }
   ],
   "source": [
    "from astropy.table import Table\n",
    "from astropy.io import fits\n",
    "with fits.open('../data/sw_input.fits') as f:\n",
    "    df = Table(f[1].data).to_pandas()\n",
    "    f.close()\n",
    "\n",
    "df.head()"
   ]
  },
  {
   "cell_type": "markdown",
   "id": "421ae72f-46c5-4b2d-9354-daf3b92731f4",
   "metadata": {},
   "source": [
    "**Optional:** how did you choose your set of galaxies? It's okay if they are all random, but if you want, you can try to choose a sample you find interesting."
   ]
  },
  {
   "cell_type": "code",
   "execution_count": null,
   "id": "6bf13e30-8bb1-46fd-abaf-376cc2a999ad",
   "metadata": {},
   "outputs": [],
   "source": [
    "# Space to select a sample of N galaxies, answer the question, or do something else"
   ]
  },
  {
   "cell_type": "markdown",
   "id": "b0aedd99-abe7-492c-9783-6b6f53eef274",
   "metadata": {},
   "source": [
    "#### Step 6\n",
    "\n",
    "Run Prospector on your chosen sample. Feel free to use the default code we provided, or try your own fitting / modelling parameters."
   ]
  },
  {
   "cell_type": "markdown",
   "id": "4487d184-8327-413a-9bf6-042d6cdc3abe",
   "metadata": {},
   "source": [
    "#### Step 7\n",
    "\n",
    "The photometry of the galaxy changes based on how far away it is: galaxies further away are fainter, and their SED shifts more towards red wavelengths. This is one of the challenges of SED fitting: it's hard to break the degeneracy between galaxies that are red because they are intrinsically red (older stars), and galaxies that are red because they are far away. \n",
    "\n",
    "By default, we give Prospector a *known* spectroscopic redshift for each galaxy. This means that it is not fitting one of the important degenarate parameters.\n",
    "\n",
    "However, obtaining a spectroscopic redshift is difficult, as it requires measuring a galaxy spectrum - simple photometry is way easier. The galaxies we used in this project all have spectroscopy, but there are millions of galaxies that do not. For those objects, we need to fit the SED *and* redshift simultaneously.\n",
    "\n",
    "Let's imagine that we don't know the redshift of our objects. For your sample, re-run the Prospector fits by setting redshift as one of the free parameters. You can change Lines 124-130 of `assignment_params.py` to allow redshift to vary."
   ]
  },
  {
   "cell_type": "markdown",
   "id": "68c435a6",
   "metadata": {},
   "source": [
    "# Section 1\n",
    "\n",
    "- #### Goodness of fit of Prospector examples"
   ]
  },
  {
   "cell_type": "code",
   "execution_count": null,
   "id": "df948e6b",
   "metadata": {},
   "outputs": [],
   "source": [
    "### Plot the data for a chosen galaxy (with error bars) \n",
    "### Flux or magnitude vs band wavelength or index\n",
    "\n",
    "### Add the best fit model to the plot\n",
    "\n",
    "### Compute the goodness-of-fit (chi squared)\n",
    "### (Prospector assumes the magnitudes are independent so you can to, but we'll come back to this later)"
   ]
  },
  {
   "cell_type": "code",
   "execution_count": null,
   "id": "ac02d225",
   "metadata": {},
   "outputs": [],
   "source": [
    "### Is the goodness of fit reasonable (why?)"
   ]
  },
  {
   "cell_type": "code",
   "execution_count": null,
   "id": "b406ce8b",
   "metadata": {},
   "outputs": [],
   "source": [
    "### What is the best fit, mean, and 1/2/3 sigma confidence intervals for each of the constrained parameters\n",
    "### Are they consistent with the results from Chang et al (the output file linked above)?\n",
    "### How similar do we expect them to be?"
   ]
  },
  {
   "cell_type": "code",
   "execution_count": null,
   "id": "e4a63863",
   "metadata": {},
   "outputs": [],
   "source": [
    "### How did allowing the redshift as a free parameter change the results? did you get the same mass? is the redshift correct?"
   ]
  },
  {
   "cell_type": "markdown",
   "id": "237b7702",
   "metadata": {},
   "source": [
    "# SECTION 2 \n",
    "\n",
    "- #### Covariance of contrained parameters (Gaussian assumption)"
   ]
  },
  {
   "cell_type": "code",
   "execution_count": null,
   "id": "a73f9424",
   "metadata": {},
   "outputs": [],
   "source": [
    "### First lets look at the covariance of constrained parameters\n",
    "### Plot a corner plot of the prospector outputs, showing the 68% and 95% 2D contours\n",
    "### (You will want to use one of the MCMC methods in the prospector fitting ...\n",
    "###    we will discuss this more in the MCMC section. For now we can assume that the density of ...\n",
    "###    output samples at a given location in parameter space, is proportional to the probability of ...\n",
    "###    those parameters, given the data and model )"
   ]
  },
  {
   "cell_type": "code",
   "execution_count": null,
   "id": "e9791caf",
   "metadata": {},
   "outputs": [],
   "source": [
    "### Are there any degeneracies between parameters in the fit?\n",
    "### What does this mean?"
   ]
  },
  {
   "cell_type": "code",
   "execution_count": null,
   "id": "3473e442",
   "metadata": {},
   "outputs": [],
   "source": [
    "### Make a covarinace matrix of the fitted parameters (describing the uncertainties and their covarinace with each other) \n",
    "### Plot it\n",
    "### Looking at the contour plot, was this a reasonable thing to do?"
   ]
  },
  {
   "cell_type": "markdown",
   "id": "5ba23e86",
   "metadata": {},
   "source": [
    "- #### Covariance of magnitude errors"
   ]
  },
  {
   "cell_type": "code",
   "execution_count": null,
   "id": "461b0146",
   "metadata": {},
   "outputs": [],
   "source": [
    "### So far, prospector has assumed the uncertainties in the magnitudes/fluxes are independent of each other \n",
    "### In practice this might not be true\n",
    "### For this excercise, assume the correlation between the flux in each band is X%\n",
    "### Plot the covariance matrix, with and without the correlated errors"
   ]
  },
  {
   "cell_type": "code",
   "execution_count": null,
   "id": "827ad938",
   "metadata": {},
   "outputs": [],
   "source": [
    "### Re-compute the goodness of fit with the correlated errors"
   ]
  },
  {
   "cell_type": "code",
   "execution_count": null,
   "id": "a2ed3b70",
   "metadata": {},
   "outputs": [],
   "source": [
    "### Did the goodness-of-fit get worse or better, why?"
   ]
  },
  {
   "cell_type": "markdown",
   "id": "75ba85be",
   "metadata": {},
   "source": [
    "# SECTION 3 \n",
    "\n",
    "Estimating error bars and uncertainty of distributions (shot noise, bootstrap)"
   ]
  },
  {
   "cell_type": "code",
   "execution_count": null,
   "id": "a8544d72",
   "metadata": {},
   "outputs": [],
   "source": [
    "### For this section we will use the output catalogs, since running prospector on all \n",
    "### 800000 galaxies would be a waste of computing for this class\n",
    "\n",
    "### Plot a histogram of a given measured quantity (stellar mass, redshift, etc) \n",
    "### Choose the range and bin size appropriately so that we can see the full distribution"
   ]
  },
  {
   "cell_type": "code",
   "execution_count": null,
   "id": "7193a161",
   "metadata": {},
   "outputs": [],
   "source": [
    "### There are a limited number of objects in each histogram bin\n",
    "### Add shot noise (Poisson) to the histogram bars to show this\n",
    "### These with be your \"analytic\" error bars "
   ]
  },
  {
   "cell_type": "code",
   "execution_count": null,
   "id": "a3e16341",
   "metadata": {},
   "outputs": [],
   "source": [
    "### Now split the data into N subsets and compute the jackknife covarinace of the histogram bins \n",
    "### How does it compare to the analytic errors\n",
    "### Are the bins independent?\n",
    "### What if you make N very large or very small\n"
   ]
  },
  {
   "cell_type": "code",
   "execution_count": null,
   "id": "dc667885",
   "metadata": {},
   "outputs": [],
   "source": [
    "### Now repeat this excercise, replacing the histogram with a calculation of the mean stellar \n",
    "### mass as a function of redshift (i.e. Split the data into redshift bins, and compute the mean mass in each)\n",
    "### Use Jackknife to get the errors\n",
    "### How to these compare with the standard error of the mean?"
   ]
  }
 ],
 "metadata": {
  "kernelspec": {
   "display_name": "Python 3 (ipykernel)",
   "language": "python",
   "name": "python3"
  },
  "language_info": {
   "codemirror_mode": {
    "name": "ipython",
    "version": 3
   },
   "file_extension": ".py",
   "mimetype": "text/x-python",
   "name": "python",
   "nbconvert_exporter": "python",
   "pygments_lexer": "ipython3",
   "version": "3.10.0"
  }
 },
 "nbformat": 4,
 "nbformat_minor": 5
}
